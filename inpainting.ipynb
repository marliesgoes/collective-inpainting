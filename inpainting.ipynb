{
 "cells": [
  {
   "cell_type": "code",
   "execution_count": 2,
   "metadata": {},
   "outputs": [
    {
     "data": {
      "text/plain": [
       "True"
      ]
     },
     "execution_count": 2,
     "metadata": {},
     "output_type": "execute_result"
    }
   ],
   "source": [
    "from dotenv import load_dotenv\n",
    "import replicate\n",
    "\n",
    "load_dotenv()"
   ]
  },
  {
   "cell_type": "code",
   "execution_count": 3,
   "metadata": {},
   "outputs": [
    {
     "name": "stdout",
     "output_type": "stream",
     "text": [
      "['https://replicate.delivery/pbxt/nPo81KsyMI63Jts0BqJzXmoAELNdeh5NRDFBopz7iPsP7sIJA/out-0.png']\n"
     ]
    }
   ],
   "source": [
    "output = replicate.run(\n",
    "    \"stability-ai/stable-diffusion-inpainting:c11bac58203367db93a3c552bd49a25a5418458ddffb7e90dae55780765e26d6\",\n",
    "    input={\n",
    "        \"mask\": \"https://raw.githubusercontent.com/marliesgoes/collective-inpainting/main/data/classroom_mask.jpg\",\n",
    "        \"image\": \"https://raw.githubusercontent.com/marliesgoes/collective-inpainting/main/data/classroom.jpg\",\n",
    "        \"width\": 512,\n",
    "        \"height\": 512,\n",
    "        \"prompt\": \"A raccoon history teacher\",\n",
    "        \"scheduler\": \"DPMSolverMultistep\",\n",
    "        \"num_outputs\": 1,\n",
    "        \"guidance_scale\": 7.5,\n",
    "        \"num_inference_steps\": 25\n",
    "    }\n",
    ")\n",
    "print(output)"
   ]
  },
  {
   "cell_type": "markdown",
   "metadata": {},
   "source": []
  },
  {
   "cell_type": "code",
   "execution_count": null,
   "metadata": {},
   "outputs": [],
   "source": []
  }
 ],
 "metadata": {
  "kernelspec": {
   "display_name": "ml",
   "language": "python",
   "name": "python3"
  },
  "language_info": {
   "codemirror_mode": {
    "name": "ipython",
    "version": 3
   },
   "file_extension": ".py",
   "mimetype": "text/x-python",
   "name": "python",
   "nbconvert_exporter": "python",
   "pygments_lexer": "ipython3",
   "version": "3.8.18"
  }
 },
 "nbformat": 4,
 "nbformat_minor": 2
}
